{
 "cells": [
  {
   "cell_type": "markdown",
   "id": "19bfab18-f4e5-4e3b-9f1c-8b10e7d271a2",
   "metadata": {},
   "source": [
    "# Theoretical answers "
   ]
  },
  {
   "cell_type": "markdown",
   "id": "d30881b5-a462-4bf3-a7ab-d0fbcbd583fe",
   "metadata": {},
   "source": [
    "# 1. What is Python? And why it is popular.\n",
    "   - Python is a high-level, interpreted programming language known for its simplicity and versatility.\n",
    "   -  It is popular because of its simplicity and readability and also for its versatility."
   ]
  },
  {
   "cell_type": "markdown",
   "id": "3db72b98-329d-4e50-abc0-0c4dbebaa921",
   "metadata": {},
   "source": [
    "# 2. What is an interpreter in python?\n",
    "  - Interpreter is the method to convert source code into the language which machine understands( machine level language).\n",
    "  - Interprerter executes each line of the statement slowly and this process is  called interpretation."
   ]
  },
  {
   "cell_type": "markdown",
   "id": "783716d6-adf5-44d4-b5e2-8fd3e9534c82",
   "metadata": {},
   "source": [
    "# 3. What are pre-defined keywords?\n",
    "  - Predefined keywords in Python are reserved words that possess specific, immutable meanings within the language's syntax. These keywords are fundamental to defining the structure and logic of Python programs and cannot be used as identifiers.\n",
    "  - For example :- variable name, functiion name, class name)\n"
   ]
  },
  {
   "cell_type": "markdown",
   "id": "35fab5b9-9d05-4143-bfab-971a23055ae5",
   "metadata": {},
   "source": [
    "# 4. Can keywords be used as variable names?\n",
    "  - No, keywords are the words which are predefined or  we can say reserved in the python language.\n",
    "  - We cannot used them as variable names."
   ]
  },
  {
   "cell_type": "markdown",
   "id": "0c47e38d-9e7e-4d53-87c2-4a12aa30af44",
   "metadata": {},
   "source": [
    "# 5. What is mutablity in Python?\n",
    "  - In Python some data structure are there which allows changablity in them after creating them is known as mutablity. We can say the data structure which allows changes in it is mutablity.\n",
    "  - IN short, changablity is know as mutablity."
   ]
  },
  {
   "cell_type": "markdown",
   "id": "1065ec39-644e-4f40-a2f9-1e9f45e2c629",
   "metadata": {},
   "source": [
    "# 6. Why are lists mutable, and Tuples immutable?\n",
    "  - Lists are mutable because their contents can be changed after creation.\n",
    "  - While tuples are immutable because its contents are fixed and cannot be changed once the tuple is created."
   ]
  },
  {
   "cell_type": "markdown",
   "id": "66487dd6-8529-42df-847a-bcd8316d3583",
   "metadata": {},
   "source": [
    "# 7. What is the difference between \"==\" and \"is\" operators?\n",
    "  - Both operators are comparion operators, \"==\" operator is used to check the equality means Compares the values of two objects.\n",
    "Returns True if the values of the objects are equal if not then it will return false.\n",
    "  - Where as \"is\" operator it is an identity operator and generally used to identify the two objects, means it checks that two object in the two variable refers in the same memory or not. If yes then it will show true otherwise false."
   ]
  },
  {
   "cell_type": "markdown",
   "id": "ecde47e1-9931-41c5-a23b-898912901b7f",
   "metadata": {},
   "source": [
    "# 8. What are logical operators?\n",
    "  - logical operators are used to compare two conditional statements and evaluate expressions based on Boolean logic. They return a Boolean value True or False.\n",
    "  - There are three types of logical operators:\n",
    "  - 1. And\n",
    "    2. Or\n",
    "    3. Not"
   ]
  },
  {
   "cell_type": "markdown",
   "id": "644cabb2-b62e-4519-bb1e-7f8281446509",
   "metadata": {},
   "source": [
    "# 9. What is typecating?\n",
    "  - typecasting is the process to change one data type into an other. there are two types of typecating one is explicit and other is implicit.\n",
    "1.  Explicit typecasting is when programmer externally changes variable data type fron one to another.\n",
    "  - For example :-\n",
    "  - a = \"100\"\n",
    "  - b = int(a) # This converts string into integer.\n",
    "  - print(tpye(b))\n",
    "\n",
    " 2. Other is Implicit typecasting this is executed automatically by the interpreter according to the different operation as the data type.\n",
    "  - For example :-\n",
    "  - a = 100\n",
    "  - b = 3.4\n",
    "  - c = \"Ashish\"\n",
    "  - d = True\n",
    "  - Here, interpreter automatically assigns the datatype according to the data."
   ]
  },
  {
   "cell_type": "markdown",
   "id": "902d2047-4479-499e-b1f4-c562cc031bf6",
   "metadata": {},
   "source": [
    "# 10. What is the difference between implicit and explicit typecasting?\n",
    "  1. Implicit tpyecasting:\n",
    "     - Implicit typecasting is executed automatically by the interpreter according to the different operation as the data type.\n",
    "  - For example :-\n",
    "  - a = 100\n",
    "  - b = 3.4\n",
    "  - c = \"Ashish\"\n",
    "  - d = True\n",
    "  - Here, interpreter automatically assifns the datatype according to the data.\n",
    "\n",
    "  2. Explicit typecasting:\n",
    "     - Explicit typecasting is when programmer externally changes variable data type fron one to another.\n",
    " - For example :-\n",
    " - a = \"100\"\n",
    " - b = int(a) # This converts string into integer.\n",
    " - print(tpye(b))"
   ]
  },
  {
   "cell_type": "markdown",
   "id": "c90b953a-286f-43c9-b364-f75b0d773860",
   "metadata": {},
   "source": [
    "# 11. What is the purpose of conditional statements in python?\n",
    "  - The purpose of conditional statements in Python is to control the flow of a program by allowing different blocks of code to be executed based on whether a specified condition is true or false. They are fundamental for implementing decision-making logic within a program.\n",
    "  - For example :-\n",
    "  - a = 20\n",
    "  - if a < 18:\n",
    "  - print(\"You can not drive\")\n",
    "  - else:\n",
    "  - print(\"You can drive\")"
   ]
  },
  {
   "cell_type": "markdown",
   "id": "dde7a8a2-0213-44e3-948f-1f5d8e32efaf",
   "metadata": {},
   "source": [
    "# 12. How does the elif statement work?\n",
    "  - The elif statement, short for \"else if,\" is a conditional control flow statement used in programming languages like Python. It allows for the evaluation of multiple conditions in a sequential manner.\n",
    "  - It works like first the if statement will be checked if it is false then it will go to the next condtional statement which is elif then it checks the elif condition and if it is true then the elif statement will be executed.\n",
    "  - For example :-\n",
    "  - score = 75\n",
    "  - if score >= 90:\n",
    "  - print(\"Grade: A\")\n",
    "  - elif score >= 80:\n",
    "  - print(\"Grade: B\")\n",
    "  - elif score >= 70:\n",
    "  - print(\"Grade: C\")\n",
    "  - else:\n",
    "  - print(\"Grade: F\")"
   ]
  },
  {
   "cell_type": "markdown",
   "id": "05c9db1e-3d03-46d0-a55d-24b09176b194",
   "metadata": {},
   "source": [
    "# 13. What is the difference between for and While loops?\n",
    "  - A for loop is designed for iterating over sequences (like lists, tuples, strings, dictionaries. Whereas, A while loop executes a block of code repeatedly as long as a specified condition remains True.\n",
    "  - For example :-\n",
    "  - 1. for loops\n",
    "       - for item in [1, 2, 3, 4]:\n",
    "       -  print(item)\n",
    "       -  for i in range(5):  # Iterates from 0 to 4\n",
    "       -  print(i)\n",
    "\n",
    "   2. While loops\n",
    "      - count = 0\n",
    "      - while count < 5:\n",
    "      - print(count)\n",
    "      - count += 1"
   ]
  },
  {
   "cell_type": "markdown",
   "id": "ac36b115-e577-4de3-83b2-b29a5ac9a3f7",
   "metadata": {},
   "source": [
    "# 14. Describe a scenario where while loop are more suitable than for loop.\n",
    "  - "
   ]
  },
  {
   "cell_type": "markdown",
   "id": "fbfc7d63-d55a-42dc-9489-fd29d82ddb97",
   "metadata": {},
   "source": [
    "# Practicle Questions :"
   ]
  },
  {
   "cell_type": "markdown",
   "id": "2419bec0-db72-41ed-9c4c-3a8a530144c2",
   "metadata": {},
   "source": [
    "# 1. Write a Python program to print 'Hello World'."
   ]
  },
  {
   "cell_type": "code",
   "execution_count": 4,
   "id": "3d50415c-4af9-4c1a-aec1-cb1a0690be63",
   "metadata": {},
   "outputs": [
    {
     "name": "stdout",
     "output_type": "stream",
     "text": [
      "Hello World\n"
     ]
    }
   ],
   "source": [
    "a = \"Hello World\"\n",
    "print (a)"
   ]
  },
  {
   "cell_type": "markdown",
   "id": "ab8e865a-fc7f-4017-aa52-a22e883fabcd",
   "metadata": {},
   "source": [
    "# 2. Write as Python program that display your name and age."
   ]
  },
  {
   "cell_type": "code",
   "execution_count": 6,
   "id": "88db1476-ca42-4784-8bf6-77dd4e7f185b",
   "metadata": {},
   "outputs": [
    {
     "name": "stdout",
     "output_type": "stream",
     "text": [
      "Ashish\n",
      "27\n"
     ]
    }
   ],
   "source": [
    "Name = \"Ashish\"\n",
    "Age = 27\n",
    "print(Name)\n",
    "print(Age)"
   ]
  },
  {
   "cell_type": "markdown",
   "id": "ea2d966f-3781-4407-abfb-bff80e8ec0c6",
   "metadata": {},
   "source": [
    "# 3. Write a code to print all the pre-defined keywords of Python using keyword library."
   ]
  },
  {
   "cell_type": "code",
   "execution_count": 1,
   "id": "d6c02325-238a-426e-8000-e1be3cea223f",
   "metadata": {},
   "outputs": [
    {
     "name": "stdout",
     "output_type": "stream",
     "text": [
      "\n",
      "Here is a list of the Python keywords.  Enter any keyword to get more help.\n",
      "\n",
      "False               class               from                or\n",
      "None                continue            global              pass\n",
      "True                def                 if                  raise\n",
      "and                 del                 import              return\n",
      "as                  elif                in                  try\n",
      "assert              else                is                  while\n",
      "async               except              lambda              with\n",
      "await               finally             nonlocal            yield\n",
      "break               for                 not                 \n",
      "\n"
     ]
    }
   ],
   "source": [
    "help(\"keywords\")"
   ]
  },
  {
   "cell_type": "markdown",
   "id": "93bd988a-eb2e-4a40-927c-24654d6b385b",
   "metadata": {},
   "source": [
    "# 4. Write a program that checks if a given word is a python keyword."
   ]
  },
  {
   "cell_type": "code",
   "execution_count": 16,
   "id": "d79205ee-dac7-4b50-8c9b-da5bc235668d",
   "metadata": {},
   "outputs": [
    {
     "name": "stdin",
     "output_type": "stream",
     "text": [
      "Enter a word class\n"
     ]
    },
    {
     "name": "stdout",
     "output_type": "stream",
     "text": [
      "This is  keyword\n"
     ]
    }
   ],
   "source": [
    "keywords = [\n",
    "    \"False\", \"None\", \"True\", \"and\", \"as\", \"assert\", \"async\", \"await\",\n",
    "    \"break\", \"class\", \"continue\", \"def\", \"del\", \"elif\", \"else\",\n",
    "    \"except\", \"finally\", \"for\", \"from\", \"global\", \"if\", \"import\",\n",
    "    \"in\", \"is\", \"lambda\", \"nonlocal\", \"not\", \"or\", \"pass\", \"raise\",\n",
    "    \"return\", \"try\", \"while\", \"with\", \"yield\"\n",
    "]\n",
    "\n",
    "word = input(\"Enter a word\")\n",
    "\n",
    "if word in keywords:\n",
    "    print(\"This is  keyword\")\n",
    "else:\n",
    "    print(\"This is not a keyword\")\n"
   ]
  },
  {
   "cell_type": "markdown",
   "id": "fd25231b-578e-4796-a8e7-76a669ce4b78",
   "metadata": {},
   "source": [
    "# 5. Create a list and tuple in python, and demonstrate how attempting to change an element works differently for each."
   ]
  },
  {
   "cell_type": "code",
   "execution_count": 19,
   "id": "8442e884-abf0-49bc-ac2e-05a2b0c1b6ad",
   "metadata": {},
   "outputs": [
    {
     "data": {
      "text/plain": [
       "(545, 2, 3, 4, 5, 6, 7, 8, 9)"
      ]
     },
     "execution_count": 19,
     "metadata": {},
     "output_type": "execute_result"
    }
   ],
   "source": [
    "l = [1, 2, 3, 4,5, 6, 7, 8, 9]\n",
    "t = (1,2,3,4,5,6,7,8,9) \n",
    "\n",
    "l1 = l.append(34) # This will add the given number to the list.\n",
    "# Tuples contain ordered immutable data so we can not make any change in tuples we can only change the elemnt of the tuple with tthe help of typecasting.\n",
    "\n",
    "t1 = list(t)\n",
    "t1[0] = 545\n",
    "t2 = tuple(t1)\n",
    "t2"
   ]
  },
  {
   "cell_type": "markdown",
   "id": "8fe22d20-660a-4d93-ba43-a096f1582109",
   "metadata": {},
   "source": [
    "# 6. Write a function to demonstrate the behaviour of mutable and immutable argumnets."
   ]
  },
  {
   "cell_type": "code",
   "execution_count": 22,
   "id": "fd3a8f67-89c7-485a-8fad-7866d90b67d0",
   "metadata": {},
   "outputs": [
    {
     "data": {
      "text/plain": [
       "[23, 2, 3, 564, 5]"
      ]
     },
     "execution_count": 22,
     "metadata": {},
     "output_type": "execute_result"
    }
   ],
   "source": [
    "l = [1, 2, 3, 4, 5]\n",
    "l[0] = 23\n",
    "l[3] = 564\n",
    "l # This is mutablity."
   ]
  },
  {
   "cell_type": "code",
   "execution_count": 15,
   "id": "a3550222-7fa8-400c-bc2a-ff5a8451f3fa",
   "metadata": {},
   "outputs": [
    {
     "ename": "TypeError",
     "evalue": "'tuple' object does not support item assignment",
     "output_type": "error",
     "traceback": [
      "\u001b[1;31m---------------------------------------------------------------------------\u001b[0m",
      "\u001b[1;31mTypeError\u001b[0m                                 Traceback (most recent call last)",
      "Cell \u001b[1;32mIn[15], line 2\u001b[0m\n\u001b[0;32m      1\u001b[0m t \u001b[38;5;241m=\u001b[39m (\u001b[38;5;241m1\u001b[39m, \u001b[38;5;241m2\u001b[39m, \u001b[38;5;241m3\u001b[39m, \u001b[38;5;241m4\u001b[39m, \u001b[38;5;241m5\u001b[39m, \u001b[38;5;241m6\u001b[39m, \u001b[38;5;241m7\u001b[39m)\n\u001b[1;32m----> 2\u001b[0m t[\u001b[38;5;241m0\u001b[39m] \u001b[38;5;241m=\u001b[39m \u001b[38;5;241m344\u001b[39m\n\u001b[0;32m      3\u001b[0m t[\u001b[38;5;241m1\u001b[39m] \u001b[38;5;241m=\u001b[39m\u001b[38;5;241m334\u001b[39m\n\u001b[0;32m      4\u001b[0m t\n",
      "\u001b[1;31mTypeError\u001b[0m: 'tuple' object does not support item assignment"
     ]
    }
   ],
   "source": [
    "t = (1, 2, 3, 4, 5, 6, 7)\n",
    "t[0] = 344\n",
    "t[1] =334\n",
    "t\n",
    "# we cann not make changes in immutable arguments."
   ]
  },
  {
   "cell_type": "markdown",
   "id": "44782415-b2fd-4d35-9abd-6642bd86d7cd",
   "metadata": {},
   "source": [
    "# 7. Write a program that performs basic arithmetic operations on two user input numbers."
   ]
  },
  {
   "cell_type": "code",
   "execution_count": 29,
   "id": "e9ac0ce5-2156-4bd6-8863-63c4bf3ba6be",
   "metadata": {},
   "outputs": [
    {
     "name": "stdin",
     "output_type": "stream",
     "text": [
      "Enter first number:  12\n",
      "Enter second number:  23\n"
     ]
    },
    {
     "name": "stdout",
     "output_type": "stream",
     "text": [
      "\n",
      "Results:\n",
      "Addition: 35\n",
      "Subtraction: -11\n",
      "Multiplication: 276\n",
      "Division: 0.5217391304347826\n"
     ]
    }
   ],
   "source": [
    "a = int(input(\"Enter first number: \"))\n",
    "b = int(input(\"Enter second number: \"))\n",
    "\n",
    "addition = a + b\n",
    "subtraction = a - b\n",
    "multiplication = a * b\n",
    "\n",
    "if b != 0:\n",
    "    division = a / b\n",
    "else:\n",
    "    division = \"Undefined (cannot divide by zero)\"\n",
    "\n",
    "print(\"\\nResults:\")\n",
    "print(\"Addition:\", addition)\n",
    "print(\"Subtraction:\", subtraction)\n",
    "print(\"Multiplication:\", multiplication)\n",
    "print(\"Division:\", division)"
   ]
  },
  {
   "cell_type": "markdown",
   "id": "c2a10499-78ff-4d24-9cc1-7a38d297205d",
   "metadata": {},
   "source": [
    "# 8. Write a program to demonstrate the use of logical operator."
   ]
  },
  {
   "cell_type": "code",
   "execution_count": 36,
   "id": "c097ab37-c75a-4671-8880-60c90f634879",
   "metadata": {},
   "outputs": [
    {
     "name": "stdin",
     "output_type": "stream",
     "text": [
      "Enter first number:  -12\n",
      "Enter second number:  12\n"
     ]
    },
    {
     "name": "stdout",
     "output_type": "stream",
     "text": [
      "Both numbers are not positive\n",
      "At least one number is positive\n",
      "First number is negative\n"
     ]
    }
   ],
   "source": [
    "a = int(input(\"Enter first number: \"))\n",
    "b = int(input(\"Enter second number: \"))\n",
    "\n",
    "# Demonstrating 'and'. In this if both the situation are true then only this will print both are positive.\n",
    "if a > 0 and b > 0:\n",
    "    print(\"Both numbers are positive\")\n",
    "else:\n",
    "    print(\"Both numbers are not positive\")\n",
    "\n",
    "# Demonstrating 'or'. In this if one of them will be true then this function will print atleast one number positive.\n",
    "if a > 0 or b > 0:\n",
    "    print(\"At least one number is positive\")\n",
    "else:\n",
    "    print(\"No number is positive\")\n",
    "\n",
    "# Demonstrating 'not'. In this if a is less then zero then it will print first number is negative.\n",
    "if not (a < 0):\n",
    "    print(\"First number is NOT negative\")\n",
    "else:\n",
    "    print(\"First number is negative\")\n"
   ]
  },
  {
   "cell_type": "markdown",
   "id": "e542fea2-e401-419c-bc08-01e83e625af4",
   "metadata": {},
   "source": [
    "# 9.  Write a Python program to convert user input from string to integer, float, and boolean types."
   ]
  },
  {
   "cell_type": "code",
   "execution_count": 7,
   "id": "60e9700a-a32d-452c-a0ef-625a6e9ca030",
   "metadata": {},
   "outputs": [
    {
     "name": "stdin",
     "output_type": "stream",
     "text": [
      "Enter Something : 12\n"
     ]
    },
    {
     "name": "stdout",
     "output_type": "stream",
     "text": [
      "Integer 12\n",
      "Float 12.0\n",
      "Boolean True\n"
     ]
    }
   ],
   "source": [
    "a = input(\"Enter Something :\")\n",
    "\n",
    "int_value = int(a)\n",
    "float_value = float(a)\n",
    "bool_value = bool(a)\n",
    "\n",
    "print(\"Integer\", int_value)\n",
    "print(\"Float\", float_value)\n",
    "print(\"Boolean\", bool_value)"
   ]
  },
  {
   "cell_type": "markdown",
   "id": "4c75d6c0-c2fd-4360-8948-3e87515791e7",
   "metadata": {},
   "source": [
    "# 10. Write code to demonstrate type casting with list elements."
   ]
  },
  {
   "cell_type": "code",
   "execution_count": 3,
   "id": "2bc116f4-209f-4b47-9c4b-90199e893639",
   "metadata": {},
   "outputs": [
    {
     "name": "stdout",
     "output_type": "stream",
     "text": [
      "Integer list: [10, 30, 40]\n",
      "Float list: [20.5]\n",
      "Boolean list: [True, False]\n"
     ]
    }
   ],
   "source": [
    "data = [\"10\", \"20.5\", \"30\", \"True\", \"False\", \"40\"]\n",
    "\n",
    "int_list = []\n",
    "float_list = []\n",
    "bool_list = []\n",
    "\n",
    "for item in data:\n",
    "    if item.isdigit():\n",
    "        int_list.append(int(item))\n",
    "\n",
    "    elif \".\" in item:\n",
    "        float_list.append(float(item))\n",
    "\n",
    "    elif item == \"True\":\n",
    "        bool_list.append(True)\n",
    "    elif item == \"False\":\n",
    "        bool_list.append(False)\n",
    "\n",
    "print(\"Integer list:\", int_list)\n",
    "print(\"Float list:\", float_list)\n",
    "print(\"Boolean list:\", bool_list)\n"
   ]
  },
  {
   "cell_type": "markdown",
   "id": "32dab9e7-17f3-4522-a21a-895cdf07c885",
   "metadata": {},
   "source": [
    "# 11. Write a program that checks if a number is positive, negative, or zero."
   ]
  },
  {
   "cell_type": "code",
   "execution_count": 6,
   "id": "4c51009f-a814-49c3-b417-bb426cf49257",
   "metadata": {},
   "outputs": [
    {
     "name": "stdin",
     "output_type": "stream",
     "text": [
      "Enter a number:  12\n"
     ]
    },
    {
     "name": "stdout",
     "output_type": "stream",
     "text": [
      "This is a possitive number\n"
     ]
    }
   ],
   "source": [
    "a = int(input(\"Enter a number: \"))\n",
    "if a > 0:\n",
    "    print(\"This is a possitive number\")\n",
    "elif a == 0:\n",
    "    print(\"The number is zero\")\n",
    "else:\n",
    "    print(\"The number is  negative\")"
   ]
  },
  {
   "cell_type": "markdown",
   "id": "4383d178-95fe-4d7b-b5a2-28828e8fb395",
   "metadata": {},
   "source": [
    "# 12.  Write a for loop to print numbers from 1 to 10."
   ]
  },
  {
   "cell_type": "code",
   "execution_count": 8,
   "id": "9db068dc-428a-4908-93c8-6a896c37d858",
   "metadata": {},
   "outputs": [
    {
     "name": "stdout",
     "output_type": "stream",
     "text": [
      "1\n",
      "2\n",
      "3\n",
      "4\n",
      "5\n",
      "6\n",
      "7\n",
      "8\n",
      "9\n",
      "10\n"
     ]
    }
   ],
   "source": [
    "for i in range(1,11):\n",
    "    print(i)"
   ]
  },
  {
   "cell_type": "markdown",
   "id": "0fdb005f-7798-4439-89b9-77c9a5c402b7",
   "metadata": {},
   "source": [
    "# 13. Write a Python program to find the sum of all even numbers between 1 and 50."
   ]
  },
  {
   "cell_type": "code",
   "execution_count": 9,
   "id": "d87b0647-e556-42f0-b8c6-37b47c030b9e",
   "metadata": {},
   "outputs": [
    {
     "name": "stdout",
     "output_type": "stream",
     "text": [
      "650\n"
     ]
    }
   ],
   "source": [
    "sum_even = 0\n",
    "\n",
    "for i in range(1, 51):\n",
    "    if i % 2 == 0: \n",
    "        sum_even += i\n",
    "\n",
    "print(sum_even)"
   ]
  },
  {
   "cell_type": "markdown",
   "id": "76b46d04-27db-4921-9c4e-481e16df63dc",
   "metadata": {},
   "source": [
    "# 14. Write a program to reverse a string using a while loop."
   ]
  },
  {
   "cell_type": "code",
   "execution_count": 10,
   "id": "5162f6c6-fd0f-4ff7-a4d2-2c69dfc243c1",
   "metadata": {},
   "outputs": [
    {
     "name": "stdout",
     "output_type": "stream",
     "text": [
      "0987654321\n"
     ]
    }
   ],
   "source": [
    "text = \"1234567890\"\n",
    "\n",
    "reversed_text = \"\"\n",
    "i = len(text) - 1\n",
    "\n",
    "while i >= 0:\n",
    "    reversed_text += text[i]\n",
    "    i -= 1\n",
    "\n",
    "print(reversed_text)"
   ]
  },
  {
   "cell_type": "markdown",
   "id": "04f25da7-c93f-4580-9739-fc62445dc7dc",
   "metadata": {},
   "source": [
    "# 15.  Write a Python program to calculate the factorial of a number provided by the user using a while loop."
   ]
  },
  {
   "cell_type": "code",
   "execution_count": 14,
   "id": "fa7e7e59-6762-45e3-8e0d-3bd310e0b71d",
   "metadata": {},
   "outputs": [
    {
     "name": "stdout",
     "output_type": "stream",
     "text": [
      "The factorial of 10 is: 3628800\n"
     ]
    }
   ],
   "source": [
    "num = 10\n",
    "\n",
    "factorial = 1\n",
    "i = 1\n",
    "\n",
    "while i <= num:\n",
    "    factorial = factorial * i\n",
    "    i = i + 1\n",
    "\n",
    "print(\"The factorial of\", num, \"is:\", factorial)"
   ]
  },
  {
   "cell_type": "code",
   "execution_count": null,
   "id": "3d2b1499-0c4e-4dba-a2d3-176f03de388e",
   "metadata": {},
   "outputs": [],
   "source": []
  }
 ],
 "metadata": {
  "kernelspec": {
   "display_name": "Python [conda env:base] *",
   "language": "python",
   "name": "conda-base-py"
  },
  "language_info": {
   "codemirror_mode": {
    "name": "ipython",
    "version": 3
   },
   "file_extension": ".py",
   "mimetype": "text/x-python",
   "name": "python",
   "nbconvert_exporter": "python",
   "pygments_lexer": "ipython3",
   "version": "3.13.5"
  }
 },
 "nbformat": 4,
 "nbformat_minor": 5
}
